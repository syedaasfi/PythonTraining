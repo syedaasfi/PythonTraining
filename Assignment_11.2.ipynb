{
 "cells": [
  {
   "cell_type": "code",
   "execution_count": 1,
   "id": "ad3af9e9-ff54-43ce-b547-3e08e37bd222",
   "metadata": {},
   "outputs": [],
   "source": [
    "import time\n",
    "\n",
    "class Timer:\n",
    "    # def __init__(self):\n",
    "    def __enter__(self):\n",
    "        self.start_time = time.time()\n",
    "        return self\n",
    "\n",
    "    def __exit__(self, exc_type, exc_val, exc_tb):\n",
    "        self.end_time = time.time()\n",
    "\n",
    "    @property\n",
    "    def time_taken(self):\n",
    "        return self.end_time - self.start_time\n",
    "\n",
    "\n",
    "def is_prime(n):\n",
    "    if n<2:\n",
    "        return False\n",
    "    for x in range(2,n):\n",
    "        if n%x==0:\n",
    "            return False\n",
    "    return True\n",
    "\n",
    "def find_primes(min,max):\n",
    "    primes=[]\n",
    "    for x in range(min,max):\n",
    "        if is_prime(x):\n",
    "            primes.append(x)\n",
    "    return primes\n",
    "        "
   ]
  },
  {
   "cell_type": "code",
   "execution_count": 2,
   "id": "c53fc02f",
   "metadata": {},
   "outputs": [
    {
     "name": "stdout",
     "output_type": "stream",
     "text": [
      "total primes 2262\n",
      "total time taken 0.906315803527832\n"
     ]
    }
   ],
   "source": [
    "with Timer() as t:\n",
    "    primes=find_primes(2,20000)\n",
    "    print('total primes', len(primes))\n",
    "    \n",
    "print('total time taken', t.time_taken)"
   ]
  }
 ],
 "metadata": {
  "kernelspec": {
   "display_name": "Python 3 (ipykernel)",
   "language": "python",
   "name": "python3"
  },
  "language_info": {
   "codemirror_mode": {
    "name": "ipython",
    "version": 3
   },
   "file_extension": ".py",
   "mimetype": "text/x-python",
   "name": "python",
   "nbconvert_exporter": "python",
   "pygments_lexer": "ipython3",
   "version": "3.11.5"
  }
 },
 "nbformat": 4,
 "nbformat_minor": 5
}

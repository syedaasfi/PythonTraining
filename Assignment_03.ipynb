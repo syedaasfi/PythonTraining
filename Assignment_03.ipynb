{
 "cells": [
  {
   "cell_type": "markdown",
   "metadata": {},
   "source": [
    "Q1 : Print the calendar of a given month (Vertical)"
   ]
  },
  {
   "cell_type": "code",
   "execution_count": 2,
   "metadata": {},
   "outputs": [
    {
     "name": "stdout",
     "output_type": "stream",
     "text": [
      "Sun\t\t 3 \t 10 \t 17 \t 24\n",
      "\n",
      "Mon\t\t 4 \t 11 \t 18 \t 25\n",
      "\n",
      "Tue\t\t 5 \t 12 \t 19 \t 26\n",
      "\n",
      "Wed\t\t 6 \t 13 \t 20 \t 27\n",
      "\n",
      "Thu\t\t 7 \t 14 \t 21 \t 28\n",
      "\n",
      "Fri\t1 \t 8 \t 15 \t 22\t 29\n",
      "\n",
      "Sat\t2 \t 9 \t 16 \t 23\t 30\n",
      "\n"
     ]
    }
   ],
   "source": [
    "def is_leap_year(year):\n",
    "    return (year%100!=0 and year%4==0) or year%400==0\n",
    "\n",
    "def days_in_month(month , year=1990):\n",
    "    if month==2:\n",
    "        return 28+int(is_leap_year(year))        \n",
    "    elif (month<8 and month%2!=0) or (month>=8 and month%2==0):\n",
    "        return 31\n",
    "    else:\n",
    "        return 30\n",
    "\n",
    "\n",
    "def date_value(day ,month, year):\n",
    "    value=0\n",
    "    y=year-1\n",
    "    # total days elapsed till the end of previous year\n",
    "    value = y * 365 + y//4  - y//100 + y//400\n",
    "\n",
    "    # add total days passed till previous month of this year\n",
    "    m=1\n",
    "    while m<month:\n",
    "        #print(f'Adding {days_in_month(m,year)} for {m}/{year}')\n",
    "        value+= days_in_month(m,year)\n",
    "        m+=1\n",
    "\n",
    "    #add days of this month\n",
    "    value+=day\n",
    "    return value\n",
    "\n",
    "def date_to_week_day(date,month,year):\n",
    "    ref_date = date_value(1,1,2006)\n",
    "    input_date= date_value(date,month,year)\n",
    "    diff= (input_date-ref_date) % 7\n",
    "    return diff\n",
    "\n",
    "def print_dates_in_week_day(start_date, days):\n",
    "    print(start_date, '\\t', (start_date + 7), '\\t', (start_date + 14), '\\t', (start_date + 21), end = '')\n",
    "    if((start_date + 28) <= days):\n",
    "        print('\\t', (start_date + 28), end = '')\n",
    "\n",
    " \n",
    "\n",
    "def print_calendar_vertically(month, year):\n",
    "    week_days = [\"Sun\",\"Mon\", \"Tue\", \"Wed\", \"Thu\", \"Fri\", \"Sat\"]\n",
    "    start_day_pos = date_to_week_day(1, month, year)\n",
    "    days = days_in_month(month, year)\n",
    "    for i in range(7):\n",
    "        print(week_days[i], end='')\n",
    "        print('\\t', end = '')\n",
    "        if(i < start_day_pos):\n",
    "            print('\\t', end = ' ')\n",
    "            start_date_in_row = (7 - start_day_pos) + i + 1\n",
    "        else:\n",
    "            start_date_in_row = (i - start_day_pos) + 1\n",
    "        print_dates_in_week_day(start_date_in_row, days)\n",
    "        print(\"\\n\")\n",
    "\n",
    "print_calendar_vertically(6,2001)"
   ]
  }
 ],
 "metadata": {
  "kernelspec": {
   "display_name": "Python 3",
   "language": "python",
   "name": "python3"
  },
  "language_info": {
   "codemirror_mode": {
    "name": "ipython",
    "version": 3
   },
   "file_extension": ".py",
   "mimetype": "text/x-python",
   "name": "python",
   "nbconvert_exporter": "python",
   "pygments_lexer": "ipython3",
   "version": "3.11.5"
  },
  "orig_nbformat": 4
 },
 "nbformat": 4,
 "nbformat_minor": 2
}

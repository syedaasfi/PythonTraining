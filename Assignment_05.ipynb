{
 "cells": [
  {
   "cell_type": "code",
   "execution_count": 1,
   "metadata": {},
   "outputs": [],
   "source": [
    "from math import pi\n",
    "\n",
    "class Circle:\n",
    "    pass\n",
    "\n",
    "def create(radius):\n",
    "    c = Circle()\n",
    "    c.radius = radius\n",
    "    return c\n",
    "\n",
    "def is_valid(c):\n",
    "    return isinstance(c, Circle) and c.radius > 0\n",
    "\n",
    "def circumference(c):\n",
    "    return 2 * pi * c.radius if is_valid(c) else float('nan')\n",
    "\n",
    "def area(c):\n",
    "    return pi * c.radius**2 if is_valid(c) else float('nan')\n",
    "\n",
    "def info(c):\n",
    "    return f'Circle < Radius : {c.radius} >' if is_valid(c) else '<Invalid Circle>'\n",
    "\n",
    "def draw(c):\n",
    "    print(info(c))\n"
   ]
  },
  {
   "cell_type": "code",
   "execution_count": 2,
   "metadata": {},
   "outputs": [
    {
     "name": "stdout",
     "output_type": "stream",
     "text": [
      "Circle < Radius : 8 >\n",
      "Circumference : 50.26548245743669\n",
      "Area : 201.06192982974676\n"
     ]
    }
   ],
   "source": [
    "circle = create(8)\n",
    "draw(circle)\n",
    "print(f'Circumference : {circumference(circle)}')\n",
    "print(f'Area : {area(circle)}')"
   ]
  },
  {
   "cell_type": "code",
   "execution_count": 3,
   "metadata": {},
   "outputs": [],
   "source": [
    "class BankAccount:\n",
    "    account_number = \"\"\n",
    "    name = \"\"\n",
    "    password = \"\"\n",
    "    balance = 0\n",
    "    interest_rate = 0\n",
    "\n",
    "    @classmethod\n",
    "    def create_account(cls, account_number, name, password, initial_balance, interest_rate):\n",
    "        cls.account_number = account_number\n",
    "        cls.name = name\n",
    "        cls.password = password\n",
    "        cls.balance = initial_balance\n",
    "        cls.interest_rate = interest_rate\n",
    "\n",
    "    @classmethod\n",
    "    def deposit(cls, amount):\n",
    "        if amount > 0:\n",
    "            cls.balance += amount\n",
    "            return f'Deposit successful. New balance = {cls.balance}'\n",
    "        else:\n",
    "            return 'Deposit failed. Amount must be greater than 0.'\n",
    "\n",
    "    @classmethod\n",
    "    def withdraw(cls, amount, entered_password):\n",
    "        if amount <= 0:\n",
    "            return 'Withdrawal failed. Amount must be greater than 0.'\n",
    "        elif amount > cls.balance:\n",
    "            return 'Withdrawal failed. Insufficient balance.'\n",
    "        elif entered_password != cls.password:\n",
    "            return 'Withdrawal failed. Incorrect password.'\n",
    "        else:\n",
    "            cls.balance -= amount\n",
    "            return f'Withdrawal successful. New balance: {cls.balance}'\n",
    "\n",
    "    @classmethod\n",
    "    def credit_interest(cls):\n",
    "        monthly_interest = (cls.balance * cls.interest_rate) / 1200\n",
    "        cls.balance += monthly_interest\n",
    "        return f'Interest credited. New balance: {cls.balance}'\n",
    "\n",
    "    @classmethod\n",
    "    def info(cls):\n",
    "        return f'Account Number: {cls.account_number}\\nName: {cls.name}\\nBalance: {cls.balance}\\nInterest Rate: {cls.interest_rate}%'"
   ]
  },
  {
   "cell_type": "code",
   "execution_count": 4,
   "metadata": {},
   "outputs": [
    {
     "name": "stdout",
     "output_type": "stream",
     "text": [
      "Account Number: 181818181818\n",
      "Name: Asfi\n",
      "Balance: 8000\n",
      "Interest Rate: 3%\n",
      "Deposit successful. New balance = 14000\n",
      "Withdrawal successful. New balance: 10000\n",
      "Interest credited. New balance: 10025.0\n"
     ]
    }
   ],
   "source": [
    "BankAccount.create_account(\"181818181818\", \"Asfi\", \"Pass.Word\", 8000, 3)\n",
    "print(BankAccount.info())\n",
    "print(BankAccount.deposit(6000))\n",
    "print(BankAccount.withdraw(4000, \"Pass.Word\"))\n",
    "print(BankAccount.credit_interest())"
   ]
  }
 ],
 "metadata": {
  "kernelspec": {
   "display_name": "Python 3",
   "language": "python",
   "name": "python3"
  },
  "language_info": {
   "codemirror_mode": {
    "name": "ipython",
    "version": 3
   },
   "file_extension": ".py",
   "mimetype": "text/x-python",
   "name": "python",
   "nbconvert_exporter": "python",
   "pygments_lexer": "ipython3",
   "version": "3.11.5"
  },
  "orig_nbformat": 4
 },
 "nbformat": 4,
 "nbformat_minor": 2
}

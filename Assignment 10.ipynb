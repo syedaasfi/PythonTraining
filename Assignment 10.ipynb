{
 "cells": [
  {
   "cell_type": "code",
   "execution_count": 1,
   "metadata": {},
   "outputs": [],
   "source": [
    "class Node:\n",
    "    def __init__(self, value,next=None, previous=None):\n",
    "        self._value=value\n",
    "        self._next=next\n",
    "        self._previous=previous\n",
    "        \n",
    "class LinkedList:\n",
    "    def __init__(self, *args):\n",
    "        self._first=None\n",
    "        self._last=None\n",
    "        self._count=0\n",
    "        self.append(*args)\n",
    "        \n",
    "\n",
    "    def append(self, *args):\n",
    "        for value in args:\n",
    "            self._append(value)\n",
    "\n",
    "\n",
    "    def _append(self, value):\n",
    "        node=Node(value,previous=self._first)\n",
    "        if not self._first:\n",
    "            self._first=node\n",
    "        else:\n",
    "            self._last._next=node\n",
    "        self._last=node\n",
    "        self._count+=1\n",
    "                  \n",
    "                  \n",
    "    #def info(self):\n",
    "    def __str__(self):\n",
    "        if self._first==None: \n",
    "            return \"LinkedList(empty)\"\n",
    "        str=\"LinkedList(\\t\"\n",
    "        n=self._first\n",
    "        while n:\n",
    "            str+=f'{n._value}\\t'\n",
    "            n=n._next\n",
    "        str+=\")\"\n",
    "        return str\n",
    "\n",
    "    #def size(self):\n",
    "    def __len__(self):\n",
    "        return c\n",
    "        \n",
    "\n",
    "    def __locate(self,index):\n",
    "        if index>=len(self):\n",
    "            raise IndexError(f'Invalid Index :{index}')\n",
    "        \n",
    "        n=self._first\n",
    "        for i in range(index):\n",
    "            n=n._next\n",
    "            \n",
    "        return n\n",
    "\n",
    "\n",
    "             \n",
    "    #def get(self,index):\n",
    "    def __getitem__(self,index):\n",
    "        n=self.__locate(index)\n",
    "        return n._value  #if n else None\n",
    "    \n",
    "\n",
    "    #def set(self,index,value):\n",
    "    def __setitem__(self,index,value):\n",
    "        n=self.__locate(index)\n",
    "        n._value=value\n",
    "\n",
    "    def insert(self, index, value):\n",
    "        y=self.__locate(index)\n",
    "        x=y._previous \n",
    "\n",
    "        new_node=Node(value,previous=x,next=y)\n",
    "        \n",
    "        if x:\n",
    "            x._next=new_node\n",
    "        else:\n",
    "            self._first=new_node\n",
    "\n",
    "        y._previous=new_node\n",
    "        self._count+=1\n",
    "\n",
    "    def remove(self, index):\n",
    "        n=self.__locate(index)\n",
    "        \n",
    "        x= n._previous\n",
    "        y= n._next\n",
    "\n",
    "        if x:\n",
    "            x._next=y\n",
    "        else:\n",
    "            self._first=y\n",
    "\n",
    "        if y:\n",
    "            y._previous=x\n",
    "                  \n",
    "        self._count-=1\n",
    "        return n._value\n",
    "                  \n",
    "    \n",
    "    def __iter__(self):\n",
    "        return LinkedList.Iterator(self)\n",
    "    \n",
    "    class Iterator:\n",
    "        def __init__(self, list):\n",
    "            self._list=list\n",
    "            self._current=None\n",
    "            \n",
    "        def __next__(self):\n",
    "            if not self._current:\n",
    "                self._current=self._list._first\n",
    "            else:\n",
    "                self._current=self._current._next\n",
    "                \n",
    "            if self._current:\n",
    "                return self._current._value\n",
    "            else:\n",
    "                raise StopIteration()"
   ]
  },
  {
   "cell_type": "code",
   "execution_count": 2,
   "metadata": {},
   "outputs": [],
   "source": [
    "class prime_range(LinkedList):\n",
    "    def __init__(self, min, max=None):\n",
    "        self._first=None\n",
    "        self._last=None\n",
    "        self._count=0\n",
    "        if(max==None):\n",
    "            self.append(*range(2, min))\n",
    "        else:\n",
    "            self.append(*range(min, max+1))\n",
    "    \n",
    "    def is_prime(self, x):\n",
    "        for i in range(2,x):\n",
    "            if x%i==0:\n",
    "                return False\n",
    "        return True\n",
    "\n",
    "    def append(self, *args):\n",
    "        for value in args:\n",
    "            if value not in (0, 1) and self.is_prime(value):\n",
    "                self._append(value)\n"
   ]
  },
  {
   "cell_type": "code",
   "execution_count": 3,
   "metadata": {},
   "outputs": [
    {
     "name": "stdout",
     "output_type": "stream",
     "text": [
      "LinkedList(\t2\t3\t5\t7\t)\n"
     ]
    }
   ],
   "source": [
    "primes = prime_range(10)\n",
    "\n",
    "print(primes)"
   ]
  },
  {
   "cell_type": "code",
   "execution_count": 4,
   "metadata": {},
   "outputs": [
    {
     "name": "stdout",
     "output_type": "stream",
     "text": [
      "2 3 5 7 "
     ]
    }
   ],
   "source": [
    "for p in prime_range(10):\n",
    "    print(p, end=' ') #2, 3, 5, 7"
   ]
  },
  {
   "cell_type": "code",
   "execution_count": 5,
   "metadata": {},
   "outputs": [
    {
     "name": "stdout",
     "output_type": "stream",
     "text": [
      "11\n",
      "13\n",
      "17\n",
      "19\n",
      "END OF PRIMES LIST\n"
     ]
    }
   ],
   "source": [
    "primes= prime_range(10,20)\n",
    "\n",
    "try:\n",
    "    it=iter(primes)\n",
    "\n",
    "    print(next(it)) \n",
    "    print(next(it)) \n",
    "    print(next(it)) \n",
    "    print(next(it)) \n",
    "    print(next(it))\n",
    "\n",
    "except StopIteration:\n",
    "    print('END OF PRIMES LIST')\n",
    "    "
   ]
  },
  {
   "cell_type": "code",
   "execution_count": null,
   "metadata": {},
   "outputs": [],
   "source": []
  }
 ],
 "metadata": {
  "kernelspec": {
   "display_name": "Python 3",
   "language": "python",
   "name": "python3"
  },
  "language_info": {
   "codemirror_mode": {
    "name": "ipython",
    "version": 3
   },
   "file_extension": ".py",
   "mimetype": "text/x-python",
   "name": "python",
   "nbconvert_exporter": "python",
   "pygments_lexer": "ipython3",
   "version": "3.11.5"
  },
  "orig_nbformat": 4
 },
 "nbformat": 4,
 "nbformat_minor": 2
}

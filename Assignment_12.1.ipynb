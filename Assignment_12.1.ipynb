{
 "cells": [
  {
   "cell_type": "code",
   "execution_count": 19,
   "metadata": {},
   "outputs": [],
   "source": [
    "import time\n",
    "class Cached:\n",
    "    def __init__(self, fn):\n",
    "        self.fn = fn\n",
    "        self.cache = {}\n",
    "\n",
    "    def __call__(self, *args, **kwargs):\n",
    "        if args in self.cache:\n",
    "            print('Returned cached value')\n",
    "            return self.cache[args]\n",
    "        else:\n",
    "            res = self.fn(*args, **kwargs)\n",
    "            self.cache[args] = res\n",
    "            print(f'Returned value by {self.fn.__name__} function')\n",
    "            return res\n",
    "@Cached\n",
    "def factorial(n):\n",
    "    fn = 1\n",
    "    for i in range(1, n + 1):\n",
    "        time.sleep(0.5)\n",
    "        fn *= i\n",
    "    return fn\n",
    "\n",
    " "
   ]
  },
  {
   "cell_type": "code",
   "execution_count": 20,
   "metadata": {},
   "outputs": [
    {
     "name": "stdout",
     "output_type": "stream",
     "text": [
      "Returned value by factorial function\n",
      "120\n"
     ]
    }
   ],
   "source": [
    "r1 = factorial(5)\n",
    "print(r1)"
   ]
  },
  {
   "cell_type": "code",
   "execution_count": 21,
   "metadata": {},
   "outputs": [
    {
     "name": "stdout",
     "output_type": "stream",
     "text": [
      "Returned value by factorial function\n",
      "5040\n"
     ]
    }
   ],
   "source": [
    "r2 = factorial(7)\n",
    "print(r2)"
   ]
  },
  {
   "cell_type": "code",
   "execution_count": 23,
   "metadata": {},
   "outputs": [
    {
     "name": "stdout",
     "output_type": "stream",
     "text": [
      "Returned cached value\n",
      "120\n"
     ]
    }
   ],
   "source": [
    "r3 = factorial(5)\n",
    "print(r3)"
   ]
  }
 ],
 "metadata": {
  "kernelspec": {
   "display_name": "Python 3",
   "language": "python",
   "name": "python3"
  },
  "language_info": {
   "codemirror_mode": {
    "name": "ipython",
    "version": 3
   },
   "file_extension": ".py",
   "mimetype": "text/x-python",
   "name": "python",
   "nbconvert_exporter": "python",
   "pygments_lexer": "ipython3",
   "version": "3.11.5"
  }
 },
 "nbformat": 4,
 "nbformat_minor": 2
}

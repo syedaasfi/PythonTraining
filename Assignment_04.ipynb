{
 "cells": [
  {
   "cell_type": "code",
   "execution_count": 1,
   "metadata": {},
   "outputs": [
    {
     "name": "stdout",
     "output_type": "stream",
     "text": [
      "2| +++++  +++++  +++++  +++++                  4\n",
      "8| +++++  +++++  +++++  +++++  +++++  +++++    6\n",
      "9| +++++                                       1\n",
      "7| +++++  +++++  +++++                         3\n"
     ]
    }
   ],
   "source": [
    "def plot_histogram(frequency_table, design=None, show_frequency=False):\n",
    "    align=0\n",
    "    for i in frequency_table:\n",
    "        if frequency_table[i]>align:\n",
    "            align=frequency_table[i]\n",
    "    for key, frequency in frequency_table.items():\n",
    "        if (show_frequency==True):\n",
    "            print(f'{key}| {(design+\" \") * frequency} ',end=\"\")\n",
    "            print(((len(design)+1)*\" \")*(align-frequency),frequency)\n",
    "        else:\n",
    "            print(f\"{key}| {design * frequency} \")\n",
    "frequency_table = {2: 4, 8: 6, 9: 1, 7: 3}\n",
    "plot_histogram(frequency_table,design=\"+++++ \",show_frequency=True)\n"
   ]
  }
 ],
 "metadata": {
  "kernelspec": {
   "display_name": "Python 3",
   "language": "python",
   "name": "python3"
  },
  "language_info": {
   "codemirror_mode": {
    "name": "ipython",
    "version": 3
   },
   "file_extension": ".py",
   "mimetype": "text/x-python",
   "name": "python",
   "nbconvert_exporter": "python",
   "pygments_lexer": "ipython3",
   "version": "3.11.5"
  },
  "orig_nbformat": 4
 },
 "nbformat": 4,
 "nbformat_minor": 2
}

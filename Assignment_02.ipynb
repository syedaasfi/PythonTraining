{
 "cells": [
  {
   "cell_type": "markdown",
   "metadata": {},
   "source": [
    "Q1 : Create a function to return a frequency distribution of a given sequence of values \n",
    "f = frequency( 2,2,9,1,2,2,1,4,2,2,3,1) \n",
    "print(f) # {2:6,1:3, 9:1,4:1,3:1} "
   ]
  },
  {
   "cell_type": "code",
   "execution_count": 1,
   "metadata": {},
   "outputs": [
    {
     "data": {
      "text/plain": [
       "{2: 6, 9: 1, 1: 3, 4: 1, 3: 1}"
      ]
     },
     "execution_count": 1,
     "metadata": {},
     "output_type": "execute_result"
    }
   ],
   "source": [
    "def freq_dist(f):\n",
    "    d = {}\n",
    "    for i in f:\n",
    "        if (i in d):\n",
    "            d[i] += 1\n",
    "        else:\n",
    "            d[i] = 1\n",
    "    return d\n",
    "freq_dist(f = [2,2,9,1,2,2,1,4,2,2,3,1])"
   ]
  },
  {
   "cell_type": "markdown",
   "metadata": {},
   "source": [
    "Q2 : Create a Historgram for a given frequency table \n",
    "we are NOT using any external or builtin libraries \n",
    "plot_historgram({2:6,1:3, 9:2,4:3,3:1}) \n",
    "2 | ================== 6 \n",
    "1 | ========= 3 \n",
    "9 | ====== 2 \n",
    "4 | ========= 3 \n",
    "3 | === 1 "
   ]
  },
  {
   "cell_type": "code",
   "execution_count": 7,
   "metadata": {},
   "outputs": [
    {
     "name": "stdout",
     "output_type": "stream",
     "text": [
      "2 : ============================== 6\n",
      "1 : =============== 3\n",
      "9 : ========== 2\n",
      "4 : =============== 3\n",
      "3 : ===== 1\n"
     ]
    }
   ],
   "source": [
    "def plot_histogram(frequency_table):\n",
    "\n",
    "    for key, frequency in frequency_table.items():\n",
    "        \n",
    "\n",
    "        print(f\"{key} : {'=====' * frequency} {frequency}\")\n",
    "\n",
    "frequency_table = {2: 6, 1: 3, 9: 2, 4: 3, 3: 1}\n",
    "plot_histogram(frequency_table)"
   ]
  },
  {
   "cell_type": "markdown",
   "metadata": {},
   "source": [
    "Q3 : Print the calendar of a given month (Horizontal)"
   ]
  },
  {
   "cell_type": "code",
   "execution_count": 8,
   "metadata": {},
   "outputs": [
    {
     "name": "stdout",
     "output_type": "stream",
     "text": [
      "June 2001\n",
      "Su Mo Tu We Th Fr Sa\n",
      "               01 02 \n",
      "03 04 05 06 07 08 09 \n",
      "10 11 12 13 14 15 16 \n",
      "17 18 19 20 21 22 23 \n",
      "24 25 26 27 28 29 30 \n"
     ]
    }
   ],
   "source": [
    "mon_num = int(input(\"Enter the month : \"))\n",
    "year = int(input(\"Enter the year : \"))\n",
    "  \n",
    "month ={1:'January', 2:'February', 3:'March', \n",
    "        4:'April', 5:'May', 6:'June', 7:'July',\n",
    "        8:'August', 9:'September', 10:'October',\n",
    "        11:'November', 12:'December'}\n",
    "   \n",
    "#calculation of odd days\n",
    "day =(year-1)% 400\n",
    "day = (day//100)*5 + ((day % 100) - (day % 100)//4) + ((day % 100)//4)*2\n",
    "day = day % 7\n",
    "  \n",
    "nly =[31, 28, 31, 30, 31, 30, \n",
    "      31, 31, 30, 31, 30, 31]\n",
    "ly =[31, 29, 31, 30, 31, 30, \n",
    "     31, 31, 30, 31, 30, 31]\n",
    "s = 0\n",
    "  \n",
    "if year % 4 == 0:\n",
    "    for i in range(mon_num-1):\n",
    "        s+= ly[i]\n",
    "else:\n",
    "    for i in range(mon_num-1):\n",
    "        s+= nly[i]\n",
    "  \n",
    "day += s % 7\n",
    "day = day % 7\n",
    "   \n",
    "# variable used for white space filling \n",
    "# where date not present\n",
    "space =''\n",
    "space = space.rjust(2, ' ')\n",
    "  \n",
    "# code below is to print the calendar\n",
    "print(month[mon_num], year)\n",
    "print('Su', 'Mo', 'Tu', 'We', 'Th', 'Fr', 'Sa')\n",
    "  \n",
    "if mon_num == 9 or mon_num == 4 or mon_num == 6 or mon_num == 11: \n",
    "    for i in range(31 + day):\n",
    "          \n",
    "        if i<= day:\n",
    "            print(space, end =' ')\n",
    "        else:\n",
    "            print(\"{:02d}\".format(i-day), end =' ')\n",
    "            if (i + 1)% 7 == 0:\n",
    "                print()\n",
    "elif mon_num == 2:\n",
    "    if year % 4 == 0:\n",
    "        p = 30\n",
    "    else:\n",
    "        p = 29\n",
    "          \n",
    "    for i in range(p + day):\n",
    "        if i<= day:\n",
    "            print(space, end =' ')\n",
    "        else:\n",
    "            print(\"{:02d}\".format(i-day), end =' ')\n",
    "            if (i + 1)% 7 == 0:\n",
    "                print() \n",
    "else:\n",
    "    for i in range(32 + day):\n",
    "          \n",
    "        if i<= day:\n",
    "            print(space, end =' ')\n",
    "        else:\n",
    "            print(\"{:02d}\".format(i-day), end =' ')\n",
    "            if (i + 1)% 7 == 0:\n",
    "                print()"
   ]
  }
 ],
 "metadata": {
  "kernelspec": {
   "display_name": "Python 3",
   "language": "python",
   "name": "python3"
  },
  "language_info": {
   "codemirror_mode": {
    "name": "ipython",
    "version": 3
   },
   "file_extension": ".py",
   "mimetype": "text/x-python",
   "name": "python",
   "nbconvert_exporter": "python",
   "pygments_lexer": "ipython3",
   "version": "3.11.5"
  },
  "orig_nbformat": 4
 },
 "nbformat": 4,
 "nbformat_minor": 2
}

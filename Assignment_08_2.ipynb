{
 "cells": [
  {
   "cell_type": "code",
   "execution_count": 5,
   "metadata": {},
   "outputs": [],
   "source": [
    "class Node:\n",
    "    def __init__(self, value,next=None, previous=None):\n",
    "        self._value=value\n",
    "        self._next=next\n",
    "        self._previous=previous"
   ]
  },
  {
   "cell_type": "code",
   "execution_count": 6,
   "metadata": {},
   "outputs": [],
   "source": [
    "class LinkedList:\n",
    "    def __init__(self):\n",
    "        self._first=None\n",
    "\n",
    "    def append(self, value):\n",
    "        if self._first==None: # list is empty\n",
    "            self._first=Node(value)\n",
    "        else: # add to the end of a non-empty list\n",
    "            n=self._first\n",
    "            while n._next:\n",
    "                n=n._next\n",
    "            n._next=Node(value, previous=n)\n",
    "\n",
    "    def info(self):\n",
    "        if self._first==None: \n",
    "            return \"LinkedList(empty)\"\n",
    "        str=\"LinkedList(\\t\"\n",
    "        n=self._first\n",
    "        while n:\n",
    "            str+=f'{n._value}\\t'\n",
    "            n=n._next\n",
    "        str+=\")\"\n",
    "        return str\n",
    "\n",
    "    def size(self):\n",
    "        c=0\n",
    "        n=self._first\n",
    "        while n:\n",
    "            c+=1\n",
    "            n=n._next\n",
    "        return c"
   ]
  },
  {
   "cell_type": "code",
   "execution_count": 7,
   "metadata": {},
   "outputs": [
    {
     "name": "stdout",
     "output_type": "stream",
     "text": [
      "LinkedList(empty)\n"
     ]
    }
   ],
   "source": [
    "l1 = LinkedList()\n",
    "\n",
    "print(l1.info())"
   ]
  },
  {
   "cell_type": "code",
   "execution_count": 8,
   "metadata": {},
   "outputs": [
    {
     "name": "stdout",
     "output_type": "stream",
     "text": [
      "size 5\n",
      "LinkedList(\t2\t3\t9\t2\t6\t)\n"
     ]
    }
   ],
   "source": [
    "for value in [2,3,9,2,6]:\n",
    "    l1.append(value)\n",
    "\n",
    "print('size', l1.size())\n",
    "\n",
    "print(l1.info())"
   ]
  },
  {
   "cell_type": "code",
   "execution_count": 9,
   "metadata": {},
   "outputs": [],
   "source": [
    "def get(list,index):\n",
    "    n=list._first\n",
    "    for i in range(index):\n",
    "        n=n._next\n",
    "        if n==None:\n",
    "            break\n",
    "    else:\n",
    "        return n._value"
   ]
  },
  {
   "cell_type": "code",
   "execution_count": 10,
   "metadata": {},
   "outputs": [
    {
     "data": {
      "text/plain": [
       "9"
      ]
     },
     "execution_count": 10,
     "metadata": {},
     "output_type": "execute_result"
    }
   ],
   "source": [
    "get(l1,2)"
   ]
  },
  {
   "cell_type": "code",
   "execution_count": 11,
   "metadata": {},
   "outputs": [],
   "source": [
    "LinkedList.get=get"
   ]
  },
  {
   "cell_type": "code",
   "execution_count": 12,
   "metadata": {},
   "outputs": [
    {
     "data": {
      "text/plain": [
       "2"
      ]
     },
     "execution_count": 12,
     "metadata": {},
     "output_type": "execute_result"
    }
   ],
   "source": [
    "l1.get(3)"
   ]
  },
  {
   "cell_type": "code",
   "execution_count": 13,
   "metadata": {},
   "outputs": [],
   "source": [
    "def set(list,index,value):\n",
    "    n=list._first\n",
    "    for i in range(index):\n",
    "        n=n._next\n",
    "        if n==None:\n",
    "            break\n",
    "    else:\n",
    "        n._value=value\n",
    "\n",
    "LinkedList.set=set"
   ]
  },
  {
   "cell_type": "code",
   "execution_count": 14,
   "metadata": {},
   "outputs": [
    {
     "name": "stdout",
     "output_type": "stream",
     "text": [
      "0\n",
      "1\n",
      "2\n",
      "3\n",
      "4\n",
      "LinkedList(\t0\t10\t20\t30\t40\t)\n"
     ]
    }
   ],
   "source": [
    "l2=LinkedList()\n",
    "for i in range(5):\n",
    "    l2.append(i)\n",
    "    \n",
    "for i in range(l2.size()):\n",
    "    print(l2.get(i))\n",
    "    l2.set(i, i*10)\n",
    "\n",
    "print(l2.info())"
   ]
  },
  {
   "cell_type": "code",
   "execution_count": 15,
   "metadata": {},
   "outputs": [],
   "source": [
    "def insert(list, index, value):\n",
    "    y=list._first\n",
    "    for i in range(index):\n",
    "        y=y._next\n",
    "        if y==None:\n",
    "            return\n",
    "\n",
    "    \n",
    "\n",
    "    x=y._previous\n",
    "\n",
    "    new_node=Node(value,previous=x,next=y)\n",
    "    \n",
    "    if x:\n",
    "        x._next=new_node\n",
    "    else:\n",
    "        list._first=new_node\n",
    "\n",
    "    y._previous=new_node\n",
    "   \n",
    "LinkedList.insert=insert"
   ]
  },
  {
   "cell_type": "code",
   "execution_count": 16,
   "metadata": {},
   "outputs": [
    {
     "name": "stdout",
     "output_type": "stream",
     "text": [
      "LinkedList(\t0\t10\t20\t30\t40\t)\n"
     ]
    }
   ],
   "source": [
    "print(l2.info())"
   ]
  },
  {
   "cell_type": "code",
   "execution_count": 17,
   "metadata": {},
   "outputs": [
    {
     "name": "stdout",
     "output_type": "stream",
     "text": [
      "LinkedList(\t0\t10\t15\t20\t30\t40\t)\n"
     ]
    }
   ],
   "source": [
    "l2.insert(2,15)\n",
    "print(l2.info())"
   ]
  },
  {
   "cell_type": "code",
   "execution_count": 18,
   "metadata": {},
   "outputs": [
    {
     "name": "stdout",
     "output_type": "stream",
     "text": [
      "LinkedList(\t100\t0\t10\t15\t20\t30\t40\t)\n"
     ]
    }
   ],
   "source": [
    "l2.insert(0,100)\n",
    "print(l2.info())"
   ]
  },
  {
   "cell_type": "code",
   "execution_count": 19,
   "metadata": {},
   "outputs": [],
   "source": [
    "def remove(list, index):\n",
    "    n=list._first\n",
    "    for i in range(index):\n",
    "        n=n._next\n",
    "        if n==None:\n",
    "            return\n",
    "    x= n._previous\n",
    "    y= n._next\n",
    "\n",
    "    if x:\n",
    "        x._next=y\n",
    "    else:\n",
    "        list._first=y\n",
    "\n",
    "    if y:\n",
    "        y._previous=x\n",
    "    return n._value\n",
    "\n",
    "LinkedList.remove=remove"
   ]
  },
  {
   "cell_type": "code",
   "execution_count": 20,
   "metadata": {},
   "outputs": [],
   "source": [
    "class Node:\n",
    "    def __init__(self, value,next=None, previous=None):\n",
    "        self._value=value\n",
    "        self._next=next\n",
    "        self._previous=previous\n",
    "        \n",
    "class LinkedList:\n",
    "    def __init__(self):\n",
    "        self._first=None\n",
    "\n",
    "    def append(self, value):\n",
    "        if self._first==None: # list is empty\n",
    "            self._first=Node(value)\n",
    "        else: # add to the end of a non-empty list\n",
    "            n=self._first\n",
    "            while n._next:\n",
    "                n=n._next\n",
    "            n._next=Node(value, previous=n)\n",
    "\n",
    "    def info(self):\n",
    "        if self._first==None: \n",
    "            return \"LinkedList(empty)\"\n",
    "        str=\"LinkedList(\\t\"\n",
    "        n=self._first\n",
    "        while n:\n",
    "            str+=f'{n._value}\\t'\n",
    "            n=n._next\n",
    "        str+=\")\"\n",
    "        return str\n",
    "\n",
    "    def size(self):\n",
    "        c=0\n",
    "        n=self._first\n",
    "        while n:\n",
    "            c+=1\n",
    "            n=n._next\n",
    "        return c\n",
    "            \n",
    "    def get(list,index):\n",
    "        n=list._first\n",
    "        for i in range(index):\n",
    "            n=n._next\n",
    "            if n==None:\n",
    "                break\n",
    "        else:\n",
    "            return n._value\n",
    "\n",
    "    def set(list,index,value):\n",
    "        n=list._first\n",
    "        for i in range(index):\n",
    "            n=n._next\n",
    "            if n==None:\n",
    "                break\n",
    "        else:\n",
    "            n._value=value\n",
    "\n",
    "    def insert(list, index, value):\n",
    "        y=list._first\n",
    "        for i in range(index):\n",
    "            y=y._next\n",
    "            if y==None:\n",
    "                return\n",
    "\n",
    "        \n",
    "\n",
    "        x=y._previous\n",
    "\n",
    "        new_node=Node(value,previous=x,next=y)\n",
    "        \n",
    "        if x:\n",
    "            x._next=new_node\n",
    "        else:\n",
    "            list._first=new_node\n",
    "\n",
    "        y._previous=new_node\n",
    "\n",
    "    def remove(list, index):\n",
    "        n=list._first\n",
    "        for i in range(index):\n",
    "            n=n._next\n",
    "            if n==None:\n",
    "                return\n",
    "        x= n._previous\n",
    "        y= n._next\n",
    "\n",
    "        if x:\n",
    "            x._next=y\n",
    "        else:\n",
    "            list._first=y\n",
    "\n",
    "        if y:\n",
    "            y._previous=x\n",
    "        return n._value"
   ]
  },
  {
   "cell_type": "code",
   "execution_count": 21,
   "metadata": {},
   "outputs": [
    {
     "name": "stdout",
     "output_type": "stream",
     "text": [
      "LinkedList(\t1\t2\t3\t4\t5\t6\t7\t8\t9\t)\n",
      "LinkedList(\t1\t2\t10\t4\t5\t6\t7\t8\t9\t)\n",
      "LinkedList(\t1\t2\t101\t10\t4\t5\t6\t7\t8\t9\t)\n"
     ]
    },
    {
     "data": {
      "text/plain": [
       "101"
      ]
     },
     "execution_count": 21,
     "metadata": {},
     "output_type": "execute_result"
    }
   ],
   "source": [
    "def get_index_node(list, index):\n",
    "    n=list._first\n",
    "    for i in range(index):\n",
    "        n=n._next\n",
    "        if n==None:\n",
    "            break\n",
    "    else:\n",
    "        return n\n",
    "\n",
    "def get(list,index):\n",
    "    n=get_index_node(list, index)\n",
    "    return n._value\n",
    "\n",
    "def set(list,index,value):\n",
    "    n=get_index_node(list, index)\n",
    "    n._value=value\n",
    "\n",
    "def insert(list, index, value):\n",
    "    y=get_index_node(list, index)\n",
    "    \n",
    "    x=y._previous\n",
    "\n",
    "    new_node=Node(value,previous=x,next=y)\n",
    "    \n",
    "    if x:\n",
    "        x._next=new_node\n",
    "    else:\n",
    "        list._first=new_node\n",
    "\n",
    "    y._previous=new_node\n",
    "\n",
    "def remove(list, index):\n",
    "    n=get_index_node(list, index)\n",
    "    \n",
    "    x= n._previous\n",
    "    y= n._next\n",
    "\n",
    "    if x:\n",
    "        x._next=y\n",
    "    else:\n",
    "        list._first=y\n",
    "\n",
    "    if y:\n",
    "        y._previous=x\n",
    "    return n._value\n",
    "\n",
    "l=LinkedList()\n",
    "for n in range(1,10):\n",
    "    l.append(n)\n",
    "\n",
    "print(l.info())\n",
    "\n",
    "get(l, 2)\n",
    "set(l, 2, 10)\n",
    "print(l.info())\n",
    "insert(l, 2, 101)\n",
    "print(l.info())\n",
    "remove(l, 2)"
   ]
  }
 ],
 "metadata": {
  "kernelspec": {
   "display_name": "Python 3",
   "language": "python",
   "name": "python3"
  },
  "language_info": {
   "codemirror_mode": {
    "name": "ipython",
    "version": 3
   },
   "file_extension": ".py",
   "mimetype": "text/x-python",
   "name": "python",
   "nbconvert_exporter": "python",
   "pygments_lexer": "ipython3",
   "version": "3.11.5"
  },
  "orig_nbformat": 4
 },
 "nbformat": 4,
 "nbformat_minor": 2
}

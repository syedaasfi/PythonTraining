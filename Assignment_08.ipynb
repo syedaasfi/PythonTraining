{
 "cells": [
  {
   "cell_type": "code",
   "execution_count": 1,
   "metadata": {},
   "outputs": [],
   "source": [
    "class Node:\n",
    "    def __init__(self, value,next=None, previous=None):\n",
    "        self._value=value\n",
    "        self._next=next\n",
    "        self._previous=previous\n",
    "        \n",
    "class LinkedList:\n",
    "    _last = None\n",
    "    def __init__(self, *args):\n",
    "        self._first=None\n",
    "        self.append(*args)\n",
    "\n",
    "    def append(self, *args):\n",
    "        for value in args:\n",
    "            self._append(value)\n",
    "\n",
    "\n",
    "    def _append(self, value):\n",
    "        if self._first==None: # list is empty\n",
    "            self._first=Node(value)\n",
    "            self._last = self._first\n",
    "        else: # add to the end of a non-empty list\n",
    "            self._last._next=Node(value, previous=self._last)\n",
    "            self._last = self._last._next\n",
    "\n",
    "\n",
    "    #def info(self):\n",
    "    def __str__(self):\n",
    "        if self._first==None: \n",
    "            return \"LinkedList(empty)\"\n",
    "        str=\"LinkedList(\\t\"\n",
    "        n=self._first\n",
    "        while n:\n",
    "            str+=f'{n._value}\\t'\n",
    "            n=n._next\n",
    "        str+=\")\"\n",
    "        return str\n",
    "    \n",
    "    def __len__(self):\n",
    "        c=0\n",
    "        n=self._first\n",
    "        while n:\n",
    "            c+=1\n",
    "            n=n._next\n",
    "        return c\n",
    "\n",
    "    def __locate(self,index):\n",
    "        if index>=len(self):\n",
    "            raise IndexError(f'Invalid Index :{index}')\n",
    "        \n",
    "        n=self._first\n",
    "        for i in range(index):\n",
    "            n=n._next\n",
    "            \n",
    "        return n\n",
    "    \n",
    "\n",
    "\n",
    "             \n",
    "    #def get(self,index):\n",
    "    def __getitem__(self,index):\n",
    "        n=self.__locate(index)\n",
    "        return n._value  #if n else None\n",
    "    \n",
    "\n",
    "    #def set(self,index,value):\n",
    "    def __setitem__(self,index,value):\n",
    "        n=self.__locate(index)\n",
    "        n._value=value\n",
    "\n",
    "    def insert(self, index, value):\n",
    "        y=self.__locate(index)\n",
    "        x=y._previous \n",
    "\n",
    "        new_node=Node(value,previous=x,next=y)\n",
    "        \n",
    "        if x:\n",
    "            x._next=new_node\n",
    "            if x == self._last:\n",
    "                self._last = x._next\n",
    "        else:\n",
    "            self._first=new_node\n",
    "            self._last=self._first\n",
    "        \n",
    "\n",
    "        y._previous=new_node\n",
    "\n",
    "    def remove(self, index):\n",
    "        n=self.__locate(index)\n",
    "        \n",
    "        x= n._previous\n",
    "        y= n._next\n",
    "\n",
    "        if x:\n",
    "            x._next=y\n",
    "            if n==self._last:\n",
    "                self._last = x\n",
    "        else:\n",
    "            self._first=y\n",
    "            if n==self._last:\n",
    "                self._last = x\n",
    "\n",
    "        if y:\n",
    "            y._previous=x\n",
    "        return n._value"
   ]
  },
  {
   "cell_type": "code",
   "execution_count": 2,
   "metadata": {},
   "outputs": [],
   "source": [
    "def create_list(size):\n",
    "    l=LinkedList()\n",
    "    for x in range(1,size+1):\n",
    "        l.append(x)\n",
    "\n",
    "    return l"
   ]
  },
  {
   "cell_type": "code",
   "execution_count": 3,
   "metadata": {},
   "outputs": [
    {
     "name": "stdout",
     "output_type": "stream",
     "text": [
      "Total time taken to create list is 0.1093146800994873\n"
     ]
    }
   ],
   "source": [
    "import time\n",
    "\n",
    "max=50000\n",
    "start=time.time()\n",
    "l=create_list(max)\n",
    "end=time.time()\n",
    "print(f'Total time taken to create list is {end-start}')"
   ]
  },
  {
   "cell_type": "code",
   "execution_count": 4,
   "metadata": {},
   "outputs": [
    {
     "name": "stdout",
     "output_type": "stream",
     "text": [
      "Total time taken to add element in list is 0.0\n"
     ]
    }
   ],
   "source": [
    "import time\n",
    "\n",
    "\n",
    "start=time.time()\n",
    "l.append(101)\n",
    "end=time.time()\n",
    "print(f'Total time taken to add element in list is {end-start}')"
   ]
  }
 ],
 "metadata": {
  "kernelspec": {
   "display_name": "Python 3",
   "language": "python",
   "name": "python3"
  },
  "language_info": {
   "codemirror_mode": {
    "name": "ipython",
    "version": 3
   },
   "file_extension": ".py",
   "mimetype": "text/x-python",
   "name": "python",
   "nbconvert_exporter": "python",
   "pygments_lexer": "ipython3",
   "version": "3.11.5"
  },
  "orig_nbformat": 4
 },
 "nbformat": 4,
 "nbformat_minor": 2
}

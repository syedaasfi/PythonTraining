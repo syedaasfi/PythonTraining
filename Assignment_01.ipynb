{
 "cells": [
  {
   "cell_type": "markdown",
   "metadata": {},
   "source": [
    "Q1 : Write a program to take \"n\" numbers from user and find the largest "
   ]
  },
  {
   "cell_type": "code",
   "execution_count": 5,
   "metadata": {},
   "outputs": [
    {
     "name": "stdout",
     "output_type": "stream",
     "text": [
      "The greatest number is :  4\n"
     ]
    }
   ],
   "source": [
    "inp = int(input(\"Enter the no. of inputs :  \"))\n",
    "if inp > 1 :\n",
    "\n",
    "    ins =int(input(\"Enter a number : \"))\n",
    "\n",
    "    for every_digit in range(inp-1):\n",
    "        num = int(input(\"Enter a number : \"))\n",
    "\n",
    "        if num>ins:\n",
    "\n",
    "            ins=num\n",
    "\n",
    "    print(\"The greatest number is : \", ins)\n",
    "else :\n",
    "    print(\"Enter more than 1 number.\")"
   ]
  },
  {
   "cell_type": "markdown",
   "metadata": {},
   "source": [
    "Q2 : Write a program to take \"n\" numbers from user and the find the second laragest"
   ]
  },
  {
   "cell_type": "code",
   "execution_count": 6,
   "metadata": {},
   "outputs": [
    {
     "name": "stdout",
     "output_type": "stream",
     "text": [
      "The second largest number is :  0\n"
     ]
    }
   ],
   "source": [
    "n = int(input(\"Enter the number of values: \"))\n",
    "if n > 1 : \n",
    "    largest = 0\n",
    "    second_largest = 0\n",
    "    for i in range(n):\n",
    "        num = int(input(\"Enter number : \"))\n",
    "        if num > largest:\n",
    "            second_largest = largest\n",
    "            largest = num\n",
    "        elif num > second_largest and num != largest:\n",
    "            second_largest = num\n",
    "    print(\"The second largest number is : \", second_largest)\n",
    "else : \n",
    "    print(\"Enter more than 1 number.\")"
   ]
  },
  {
   "cell_type": "markdown",
   "metadata": {},
   "source": [
    "Q3. Find all primes in a given range"
   ]
  },
  {
   "cell_type": "code",
   "execution_count": 8,
   "metadata": {},
   "outputs": [
    {
     "name": "stdout",
     "output_type": "stream",
     "text": [
      "Prime numbers between 2 and 188 are:\n",
      "2\n",
      "3\n",
      "5\n",
      "7\n",
      "11\n",
      "13\n",
      "17\n",
      "19\n",
      "23\n",
      "29\n",
      "31\n",
      "37\n",
      "41\n",
      "43\n",
      "47\n",
      "53\n",
      "59\n",
      "61\n",
      "67\n",
      "71\n",
      "73\n",
      "79\n",
      "83\n",
      "89\n",
      "97\n",
      "101\n",
      "103\n",
      "107\n",
      "109\n",
      "113\n",
      "127\n",
      "131\n",
      "137\n",
      "139\n",
      "149\n",
      "151\n",
      "157\n",
      "163\n",
      "167\n",
      "173\n",
      "179\n",
      "181\n"
     ]
    }
   ],
   "source": [
    "min = int(input(\"Enter the minimum number : \"))\n",
    "max = int(input(\"Enter the maximum number : \"))\n",
    "\n",
    "print(\"Prime numbers between\", min , \"and\", max , \"are:\")\n",
    "\n",
    "for num in range(min , max + 1):\n",
    "   \n",
    "   if num > 1:\n",
    "       for i in range(2, num):\n",
    "           if (num % i) == 0:\n",
    "               break\n",
    "       else:\n",
    "           print(num)"
   ]
  },
  {
   "cell_type": "markdown",
   "metadata": {},
   "source": [
    "Q4. Weekday Related to current date"
   ]
  },
  {
   "cell_type": "code",
   "execution_count": 10,
   "metadata": {},
   "outputs": [
    {
     "name": "stdout",
     "output_type": "stream",
     "text": [
      "Tuesday\n",
      "Thursday\n",
      "Friday\n"
     ]
    }
   ],
   "source": [
    "def week_day_name(index):\n",
    "    if index==0: return \"Sunday\"\n",
    "    elif index==1: return \"Monday\"\n",
    "    elif index==2: return \"Tuesday\"\n",
    "    elif index==3: return \"Wednesday\"\n",
    "    elif index==4: return \"Thursday\"\n",
    "    elif index==5: return \"Friday\"\n",
    "    elif index==6: return \"Saturday\"\n",
    "\n",
    "def is_leap_year(year):\n",
    "    return (year%100!=0 and year%4==0) or year%400==0\n",
    "\n",
    "def days_in_month(month , year=1990):\n",
    "    if month==2:\n",
    "        return 28+int(is_leap_year(year))        \n",
    "    elif (month<8 and month%2!=0) or (month>=8 and month%2==0):\n",
    "        return 31\n",
    "    else:\n",
    "        return 30\n",
    "\n",
    "\n",
    "def date_value(day ,month, year):\n",
    "    value=0\n",
    "    y=year-1\n",
    "    # total days elapsed till the end of previous year\n",
    "    value = y * 365 + y//4  - y//100 + y//400\n",
    "\n",
    "    # add total days passed till previous month of this year\n",
    "    m=1\n",
    "    while m<month:\n",
    "        #print(f'Adding {days_in_month(m,year)} for {m}/{year}')\n",
    "        value+= days_in_month(m,year)\n",
    "        m+=1\n",
    "\n",
    "    #add days of this month\n",
    "    value+=day\n",
    "    return value\n",
    "\n",
    "def date_to_week_day(date,month,year):\n",
    "    ref_date = date_value(1,1,2006)\n",
    "    input_date= date_value(date,month,year)\n",
    "    diff= (input_date-ref_date) % 7\n",
    "    return week_day_name(diff)\n",
    "\n",
    "\n",
    "print(date_to_week_day(11,3,1980))\n",
    "print(date_to_week_day(18,1,2001))\n",
    "print(date_to_week_day(1,6,2001))"
   ]
  }
 ],
 "metadata": {
  "kernelspec": {
   "display_name": "Python 3",
   "language": "python",
   "name": "python3"
  },
  "language_info": {
   "codemirror_mode": {
    "name": "ipython",
    "version": 3
   },
   "file_extension": ".py",
   "mimetype": "text/x-python",
   "name": "python",
   "nbconvert_exporter": "python",
   "pygments_lexer": "ipython3",
   "version": "3.11.5"
  },
  "orig_nbformat": 4
 },
 "nbformat": 4,
 "nbformat_minor": 2
}

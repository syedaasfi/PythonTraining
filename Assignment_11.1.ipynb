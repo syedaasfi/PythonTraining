{
 "cells": [
  {
   "cell_type": "code",
   "execution_count": 1,
   "id": "ded6c1ef",
   "metadata": {},
   "outputs": [],
   "source": [
    "import time"
   ]
  },
  {
   "cell_type": "code",
   "execution_count": 2,
   "id": "5f7ecfe2",
   "metadata": {},
   "outputs": [],
   "source": [
    "def preformance_log(fn):\n",
    "    def function(min, max):\n",
    "        start_time = time.time()\n",
    "        primes =  fn(min, max)\n",
    "        end_time = time.time()\n",
    "        # print(fn.__name__ + \" took \" + str(end_time - start_time) + \" seconds\")\n",
    "        primes.time_taken = time.time() - start_time\n",
    "        \n",
    "        return primes\n",
    "\n",
    "    return function"
   ]
  },
  {
   "cell_type": "code",
   "execution_count": 3,
   "id": "5274ca54",
   "metadata": {},
   "outputs": [],
   "source": [
    "def is_prime(n):\n",
    "    if n<2:\n",
    "        return False\n",
    "    for x in range(2,n):\n",
    "        if n%x==0:\n",
    "            return False\n",
    "    return True"
   ]
  },
  {
   "cell_type": "code",
   "execution_count": 4,
   "id": "0bd841b2",
   "metadata": {},
   "outputs": [],
   "source": [
    "class custom_list(list):\n",
    "    time_taken = 0"
   ]
  },
  {
   "cell_type": "code",
   "execution_count": 5,
   "id": "ad3af9e9-ff54-43ce-b547-3e08e37bd222",
   "metadata": {},
   "outputs": [
    {
     "name": "stdout",
     "output_type": "stream",
     "text": [
      "669\n",
      "0.0582427978515625\n"
     ]
    }
   ],
   "source": [
    "@preformance_log\n",
    "def find_primes(min,max):\n",
    "    primes=custom_list()\n",
    "    for x in range(min,max):\n",
    "        if is_prime(x):\n",
    "            primes.append(x)\n",
    "    return primes\n",
    "\n",
    "\n",
    "x = find_primes(2,5000)\n",
    "print(len(x))\n",
    "\n",
    "print(x.time_taken)"
   ]
  }
 ],
 "metadata": {
  "kernelspec": {
   "display_name": "Python 3 (ipykernel)",
   "language": "python",
   "name": "python3"
  },
  "language_info": {
   "codemirror_mode": {
    "name": "ipython",
    "version": 3
   },
   "file_extension": ".py",
   "mimetype": "text/x-python",
   "name": "python",
   "nbconvert_exporter": "python",
   "pygments_lexer": "ipython3",
   "version": "3.11.5"
  }
 },
 "nbformat": 4,
 "nbformat_minor": 5
}
